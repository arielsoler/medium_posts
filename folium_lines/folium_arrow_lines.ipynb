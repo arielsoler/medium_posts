{
 "cells": [
  {
   "cell_type": "code",
   "execution_count": 1,
   "metadata": {
    "ExecuteTime": {
     "end_time": "2018-02-07T21:28:32.439426Z",
     "start_time": "2018-02-07T21:28:31.873551Z"
    },
    "collapsed": true
   },
   "outputs": [],
   "source": [
    "import folium\n",
    "import numpy as np\n",
    "import pandas as pd\n",
    "from collections import namedtuple"
   ]
  },
  {
   "cell_type": "code",
   "execution_count": 27,
   "metadata": {
    "ExecuteTime": {
     "end_time": "2018-02-07T22:10:59.267279Z",
     "start_time": "2018-02-07T22:10:59.170596Z"
    }
   },
   "outputs": [],
   "source": [
    "def get_bearing(p1, p2):\n",
    "    \n",
    "    '''\n",
    "    Returns compass bearing from p1 to p2\n",
    "    \n",
    "    Parameters\n",
    "    p1 : namedtuple with lat lon\n",
    "    p2 : namedtuple with lat lon\n",
    "    \n",
    "    Return\n",
    "    compass bearing of type float\n",
    "    \n",
    "    Notes\n",
    "    Based on https://gist.github.com/jeromer/2005586\n",
    "    '''\n",
    "    \n",
    "    long_diff = np.radians(p2.lon - p1.lon)\n",
    "    \n",
    "    lat1 = np.radians(p1.lat)\n",
    "    lat2 = np.radians(p2.lat)\n",
    "    \n",
    "    x = np.sin(long_diff) * np.cos(lat2)\n",
    "    y = np.cos(lat1) * np.sin(lat2) - (np.sin(lat1) * np.cos(lat2) * np.cos(long_diff))\n",
    "\n",
    "    bearing = np.degrees(np.arctan2(x, y))\n",
    "    \n",
    "    # adjusting for compass bearing\n",
    "    if bearing < 0:\n",
    "        return bearing + 360\n",
    "    return bearing\n",
    "\n",
    "\n",
    "def get_arrows(locations, arrow_color='blue', size=6, n_arrows=3):\n",
    "    \n",
    "    '''\n",
    "    Get a list of correctly placed and rotated arrows/markers to be plotted\n",
    "    \n",
    "    Parameters\n",
    "    locations : list of lists of lat lons that represent the start and end of the line. \n",
    "                eg [[41.1132, -96.1993],[41.3810, -95.8021]]\n",
    "    arrow_color : default is 'blue'\n",
    "    size : default is 6\n",
    "    n_arrows : number of arrows to create.  default is 3\n",
    "\n",
    "    Return\n",
    "    list of arrows/markers\n",
    "    '''\n",
    "    \n",
    "    Point = namedtuple('Point', field_names=['lat', 'lon'])\n",
    "    \n",
    "    # creating point from our Point named tuple\n",
    "    p1 = Point(locations[0][0], locations[0][1])\n",
    "    p2 = Point(locations[1][0], locations[1][1])\n",
    "    \n",
    "    # getting the rotation needed for our marker.  \n",
    "    # Subtracting 90 to account for the marker's orientation of due East(get_bearing returns North)\n",
    "    rotation = get_bearing(p1, p2) - 90\n",
    "    \n",
    "    # get an evenly space list of lats and lons for our arrows\n",
    "    # note that I'm discarding the first and last for aesthetics as I'm using markers to denote the start and end\n",
    "    arrow_lats = np.linspace(p1.lat, p2.lat, n_arrows + 2)[1:n_arrows+1]\n",
    "    arrow_lons = np.linspace(p1.lon, p2.lon, n_arrows + 2)[1:n_arrows+1]\n",
    "    \n",
    "    arrows = []\n",
    "    \n",
    "    #creating each \"arrow\" and appending them to our arrows list\n",
    "    for points in zip(arrow_lats, arrow_lons):\n",
    "        arrows.append(folium.RegularPolygonMarker(location=points, \n",
    "                                    fill_color='blue', number_of_sides=3, \n",
    "                                    radius=size, rotation=rotation).add_to(some_map))\n",
    "    return arrows"
   ]
  },
  {
   "cell_type": "code",
   "execution_count": 22,
   "metadata": {
    "ExecuteTime": {
     "end_time": "2018-02-07T21:35:12.881503Z",
     "start_time": "2018-02-07T21:35:12.871991Z"
    }
   },
   "outputs": [],
   "source": [
    "# using omaha coordinates \n",
    "center_lat = 41.257160\n",
    "center_lon = -95.995102\n",
    "\n",
    "# generating a couple of random latlongs in the omaha area\n",
    "lats = np.random.uniform(low=center_lat - .25, high=center_lat + .25, size=(2,))\n",
    "lons = np.random.uniform(low=center_lon - .25, high=center_lon + .25, size=(2,))\n",
    "\n",
    "p1 = [lats[0], lons[0]]\n",
    "p2 = [lats[1], lons[1]]"
   ]
  },
  {
   "cell_type": "code",
   "execution_count": 29,
   "metadata": {
    "ExecuteTime": {
     "end_time": "2018-02-07T22:13:26.453089Z",
     "start_time": "2018-02-07T22:13:26.261734Z"
    }
   },
   "outputs": [
    {
     "data": {
      "text/html": [
       "<div style=\"width:100%;\"><div style=\"position:relative;width:100%;height:0;padding-bottom:60%;\"><iframe src=\"data:text/html;charset=utf-8;base64,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\" style=\"position:absolute;width:100%;height:100%;left:0;top:0;border:none !important;\" allowfullscreen webkitallowfullscreen mozallowfullscreen></iframe></div></div>"
      ],
      "text/plain": [
       "<folium.folium.Map at 0x1125f8be0>"
      ]
     },
     "execution_count": 29,
     "metadata": {},
     "output_type": "execute_result"
    }
   ],
   "source": [
    "some_map = folium.Map(location=[center_lat, center_lon], zoom_start=10)\n",
    "\n",
    "folium.Marker(location=p1, icon=folium.Icon(color='green')).add_to(some_map)\n",
    "folium.Marker(location=p2, icon=folium.Icon(color='red')).add_to(some_map)\n",
    "\n",
    "folium.PolyLine(locations=[p1, p2], color='blue').add_to(some_map)\n",
    "arrows = get_arrows(locations=[p1, p2], n_arrows=3)\n",
    "\n",
    "for arrow in arrows:\n",
    "    arrow.add_to(some_map)\n",
    "\n",
    "some_map"
   ]
  },
  {
   "cell_type": "code",
   "execution_count": null,
   "metadata": {
    "collapsed": true
   },
   "outputs": [],
   "source": []
  }
 ],
 "metadata": {
  "kernelspec": {
   "display_name": "Python 3",
   "language": "python",
   "name": "python3"
  },
  "language_info": {
   "codemirror_mode": {
    "name": "ipython",
    "version": 3
   },
   "file_extension": ".py",
   "mimetype": "text/x-python",
   "name": "python",
   "nbconvert_exporter": "python",
   "pygments_lexer": "ipython3",
   "version": "3.5.4"
  }
 },
 "nbformat": 4,
 "nbformat_minor": 2
}
