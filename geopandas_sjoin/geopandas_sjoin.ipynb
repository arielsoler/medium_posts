{
 "cells": [
  {
   "cell_type": "code",
   "execution_count": 1,
   "metadata": {
    "ExecuteTime": {
     "end_time": "2017-09-18T13:17:47.293425Z",
     "start_time": "2017-09-18T13:17:46.276981Z"
    },
    "collapsed": true
   },
   "outputs": [],
   "source": [
    "import pandas as pd\n",
    "import geopandas as gpd\n",
    "import requests\n",
    "import os\n",
    "from shapely.geometry import Point"
   ]
  },
  {
   "cell_type": "code",
   "execution_count": 2,
   "metadata": {
    "ExecuteTime": {
     "end_time": "2017-09-18T13:17:50.175674Z",
     "start_time": "2017-09-18T13:17:48.811340Z"
    }
   },
   "outputs": [
    {
     "name": "stdout",
     "output_type": "stream",
     "text": [
      "33144\n",
      "   GEOID   INTPTLAT  INTPTLONG\n",
      "0  00601  18.180555 -66.749961\n",
      "1  00602  18.361945 -67.175597\n",
      "2  00603  18.455183 -67.119887\n",
      "3  00606  18.158345 -66.932911\n",
      "4  00610  18.295366 -67.125135\n"
     ]
    }
   ],
   "source": [
    "url = 'http://www2.census.gov/geo/docs/maps-data/data/gazetteer/2016_Gazetteer/2016_Gaz_zcta_national.zip'\n",
    "zips = pd.read_csv(url, dtype={'GEOID' : 'str'},sep='\\t', usecols=[0,5,6])\n",
    "zips.columns = zips.columns.str.strip()  #some column cleanup\n",
    "print (len(zips))\n",
    "print (zips.head())"
   ]
  },
  {
   "cell_type": "code",
   "execution_count": 3,
   "metadata": {
    "ExecuteTime": {
     "end_time": "2017-09-18T13:18:11.296235Z",
     "start_time": "2017-09-18T13:18:10.005132Z"
    }
   },
   "outputs": [
    {
     "name": "stdout",
     "output_type": "stream",
     "text": [
      "   GEOID   INTPTLAT  INTPTLONG                              geometry\n",
      "0  00601  18.180555 -66.749961          POINT (-66.749961 18.180555)\n",
      "1  00602  18.361945 -67.175597          POINT (-67.175597 18.361945)\n",
      "2  00603  18.455183 -67.119887  POINT (-67.11988700000001 18.455183)\n",
      "3  00606  18.158345 -66.932911          POINT (-66.932911 18.158345)\n",
      "4  00610  18.295366 -67.125135          POINT (-67.125135 18.295366)\n"
     ]
    }
   ],
   "source": [
    "geom = zips.apply(lambda x : Point([x['INTPTLONG'],x['INTPTLAT']]), axis=1)\n",
    "zips = gpd.GeoDataFrame(zips, geometry=geom)\n",
    "zips.crs = {'init' :'epsg:4326'}\n",
    "print (zips.head())"
   ]
  },
  {
   "cell_type": "code",
   "execution_count": 5,
   "metadata": {
    "ExecuteTime": {
     "end_time": "2017-09-18T13:18:28.593177Z",
     "start_time": "2017-09-18T13:18:28.042696Z"
    }
   },
   "outputs": [
    {
     "name": "stdout",
     "output_type": "stream",
     "text": [
      "52\n",
      "            NAME                                           geometry\n",
      "0          Maine  (POLYGON ((-67.619761 44.519754, -67.61541 44....\n",
      "1  Massachusetts  (POLYGON ((-70.832044 41.606504, -70.823735 41...\n",
      "2       Michigan  (POLYGON ((-88.684434 48.115785, -88.675628 48...\n",
      "3        Montana  POLYGON ((-104.057698 44.997431, -104.250145 4...\n",
      "4         Nevada  POLYGON ((-114.0506 37.000396, -114.049995 36....\n"
     ]
    }
   ],
   "source": [
    "geojson_file = 'data/gz_2010_us_040_00_500k.json'\n",
    "\n",
    "if not os.path.exists(geojson_file):\n",
    "    url = 'http://eric.clst.org/wupl/Stuff/gz_2010_us_040_00_500k.json'\n",
    "    with open(geojson_file, 'w') as f:\n",
    "        f.write(requests.get(url).text)\n",
    "\n",
    "states = gpd.read_file(geojson_file)[['NAME', 'geometry']]\n",
    "print (len(states))\n",
    "print (states.head())"
   ]
  },
  {
   "cell_type": "code",
   "execution_count": 6,
   "metadata": {
    "ExecuteTime": {
     "end_time": "2017-09-18T13:18:33.216678Z",
     "start_time": "2017-09-18T13:18:31.858911Z"
    }
   },
   "outputs": [
    {
     "name": "stdout",
     "output_type": "stream",
     "text": [
      "   GEOID         NAME                              geometry  index_right\n",
      "0  00601  Puerto Rico          POINT (-66.749961 18.180555)           16\n",
      "1  00602  Puerto Rico          POINT (-67.175597 18.361945)           16\n",
      "2  00603  Puerto Rico  POINT (-67.11988700000001 18.455183)           16\n",
      "3  00606  Puerto Rico          POINT (-66.932911 18.158345)           16\n",
      "4  00610  Puerto Rico          POINT (-67.125135 18.295366)           16\n"
     ]
    }
   ],
   "source": [
    "zips_and_states = gpd.sjoin(zips, states, op='within')\n",
    "print (zips_and_states[['GEOID', 'NAME', 'geometry','index_right']].head())"
   ]
  },
  {
   "cell_type": "code",
   "execution_count": null,
   "metadata": {
    "collapsed": true
   },
   "outputs": [],
   "source": []
  }
 ],
 "metadata": {
  "kernelspec": {
   "display_name": "Python 3",
   "language": "python",
   "name": "python3"
  },
  "language_info": {
   "codemirror_mode": {
    "name": "ipython",
    "version": 3
   },
   "file_extension": ".py",
   "mimetype": "text/x-python",
   "name": "python",
   "nbconvert_exporter": "python",
   "pygments_lexer": "ipython3",
   "version": "3.5.3"
  }
 },
 "nbformat": 4,
 "nbformat_minor": 2
}
